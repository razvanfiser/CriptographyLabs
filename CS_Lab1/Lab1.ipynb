{
 "cells": [
  {
   "cell_type": "code",
   "execution_count": 163,
   "id": "9440c0e7",
   "metadata": {},
   "outputs": [],
   "source": [
    "import math\n",
    "import numpy as np"
   ]
  },
  {
   "cell_type": "code",
   "execution_count": 164,
   "id": "73a5a644",
   "metadata": {},
   "outputs": [],
   "source": [
    "def sign(x):\n",
    "    if x == 0:\n",
    "        return 0\n",
    "    else:\n",
    "        return int(x / abs(x))"
   ]
  },
  {
   "cell_type": "markdown",
   "id": "e4655f1d",
   "metadata": {},
   "source": [
    "## Caesar Substitution Cipher"
   ]
  },
  {
   "cell_type": "code",
   "execution_count": 165,
   "id": "ac220eb2",
   "metadata": {},
   "outputs": [],
   "source": [
    "class CaesarSubstCipher():\n",
    "    def __init__(self, substitution_key):\n",
    "        self.substitution_key = substitution_key\n",
    "        self.alphabet = list(\"ABCDEFGHIJKLMNOPQRSTUVWXYZ\")\n",
    "    \n",
    "    def encrypt_message(self, raw_message):\n",
    "        return \"\".join([self.substitution_key[self.alphabet.index(raw_message[i].upper())] for i in range(len(raw_message))])\n",
    "    \n",
    "    def decrypt_message(self, encrypted_message):\n",
    "        return \"\".join([self.alphabet[self.substitution_key.index(encrypted_message[i].upper())] for i in range(len(encrypted_message))])"
   ]
  },
  {
   "cell_type": "code",
   "execution_count": 166,
   "id": "2869d3da",
   "metadata": {},
   "outputs": [
    {
     "data": {
      "text/plain": [
       "'LIPPSFIEYXMJYPTIVWSR'"
      ]
     },
     "execution_count": 166,
     "metadata": {},
     "output_type": "execute_result"
    }
   ],
   "source": [
    "message = \"HELLOBEAUTIFULPERSON\"\n",
    "subst_cipher = CaesarSubstCipher(\"EFGHIJKLMNOPQRSTUVWXYZABCD\")\n",
    "encrypted_message = subst_cipher.encrypt_message(message)\n",
    "encrypted_message"
   ]
  },
  {
   "cell_type": "code",
   "execution_count": 167,
   "id": "7cc80375",
   "metadata": {},
   "outputs": [
    {
     "data": {
      "text/plain": [
       "'HELLOBEAUTIFULPERSON'"
      ]
     },
     "execution_count": 167,
     "metadata": {},
     "output_type": "execute_result"
    }
   ],
   "source": [
    "decrypted_message = subst_cipher.decrypt_message(encrypted_message)\n",
    "decrypted_message"
   ]
  },
  {
   "cell_type": "markdown",
   "id": "2606d97f",
   "metadata": {},
   "source": [
    "## Caesar Permutation Cipher"
   ]
  },
  {
   "cell_type": "code",
   "execution_count": 168,
   "id": "bea873b9",
   "metadata": {},
   "outputs": [],
   "source": [
    "class CaesarPermutationCipher():\n",
    "    def __init__(self, substitution_key, permutation_key):\n",
    "        self.substitution_key = substitution_key\n",
    "        self.permutation_key = [int(character) for character in permutation_key]\n",
    "        self.alphabet = list(\"ABCDEFGHIJKLMNOPQRSTUVWXYZ\")\n",
    "        \n",
    "    def _pad_message(self, message):\n",
    "        if len(message) % len(self.permutation_key) != 0:\n",
    "            return message + \"X\" * (len(self.permutation_key) - (len(message) % len(self.permutation_key)))\n",
    "        else:\n",
    "            return message\n",
    "    \n",
    "    def _permute_message(self, message):\n",
    "        k = self.permutation_key\n",
    "        message = self._pad_message(message)\n",
    "        return \"\".join([message[(i // len(k))*len(k) + k[i % len(k)] - 1] for i in range(len(message))])\n",
    "    \n",
    "    def _depermute_message(self, message):\n",
    "        perm_key = np.array(self.permutation_key) - 1\n",
    "        permutation = np.append(perm_key, [perm_key + len(self.permutation_key)*i for i in range(1, len(message) // len(self.permutation_key))])\n",
    "        return \"\".join([message[np.where(permutation==i)[0][0]] for i in range(len(message))])\n",
    "        \n",
    "    def encrypt_message(self, raw_message):\n",
    "        raw_message = self._permute_message(raw_message)\n",
    "        return \"\".join([self.substitution_key[self.alphabet.index(raw_message[i].upper())] for i in range(len(raw_message))])\n",
    "    \n",
    "    def decrypt_message(self, encrypted_message):\n",
    "        encrypted_message = self._depermute_message(encrypted_message)\n",
    "        return \"\".join([self.alphabet[self.substitution_key.index(encrypted_message[i].upper())] for i in range(len(encrypted_message))])"
   ]
  },
  {
   "cell_type": "code",
   "execution_count": 169,
   "id": "a76c6958",
   "metadata": {},
   "outputs": [],
   "source": [
    "perm = CaesarPermutationCipher(\"EFGHIJKLMNOPQRSTUVWXYZABCD\", \"32541\")"
   ]
  },
  {
   "cell_type": "code",
   "execution_count": 170,
   "id": "8a9debbb",
   "metadata": {},
   "outputs": [
    {
     "data": {
      "text/plain": [
       "'PISPLEIXYFYJTPMWVRSI'"
      ]
     },
     "execution_count": 170,
     "metadata": {},
     "output_type": "execute_result"
    }
   ],
   "source": [
    "encrypted = perm.encrypt_message(\"HELLOBEAUTIFULPERSON\")\n",
    "encrypted"
   ]
  },
  {
   "cell_type": "code",
   "execution_count": 171,
   "id": "f48da950",
   "metadata": {},
   "outputs": [
    {
     "data": {
      "text/plain": [
       "'HELLOBEAUTIFULPERSON'"
      ]
     },
     "execution_count": 171,
     "metadata": {},
     "output_type": "execute_result"
    }
   ],
   "source": [
    "decrypted = perm.decrypt_message(encrypted)\n",
    "decrypted"
   ]
  },
  {
   "cell_type": "markdown",
   "id": "5ab98dbb",
   "metadata": {},
   "source": [
    "## Vignete Cipher"
   ]
  },
  {
   "cell_type": "code",
   "execution_count": 172,
   "id": "ddf48352",
   "metadata": {},
   "outputs": [],
   "source": [
    "class VigneteCipher():\n",
    "    def __init__(self, keyword):\n",
    "        self.keyword = keyword\n",
    "        self.alphabet = list(\"ABCDEFGHIJKLMNOPQRSTUVWXYZ\")\n",
    "        \n",
    "    def encrypt_message(self, message):\n",
    "        keyword = (self.keyword * (len(message) // len(self.keyword) + 1))[0:len(message)]\n",
    "        encoded_as_nums = [(self.alphabet.index(message[i]) + self.alphabet.index(keyword[i])) % 26 \n",
    "                           for i in range(len(message))]\n",
    "        return \"\".join([self.alphabet[i] for i in encoded_as_nums])\n",
    "    \n",
    "    def decrypt_message(self, message):\n",
    "        keyword = (self.keyword * (len(message) // len(self.keyword) + 1))[0:len(message)]\n",
    "        encoded_as_nums = [(self.alphabet.index(message[i]) - self.alphabet.index(keyword[i])) % 26 \n",
    "                           for i in range(len(message))]\n",
    "        return \"\".join([self.alphabet[i] for i in encoded_as_nums])"
   ]
  },
  {
   "cell_type": "code",
   "execution_count": 173,
   "id": "5b69547b",
   "metadata": {},
   "outputs": [
    {
     "data": {
      "text/plain": [
       "'SQQLCJAZAFPNFSSO'"
      ]
     },
     "execution_count": 173,
     "metadata": {},
     "output_type": "execute_result"
    }
   ],
   "source": [
    "vignete = VigneteCipher(\"LMFAO\")\n",
    "encrypted_message = vignete.encrypt_message(\"HELLOYOUAREBASED\")\n",
    "encrypted_message"
   ]
  },
  {
   "cell_type": "code",
   "execution_count": 174,
   "id": "359fb8b9",
   "metadata": {},
   "outputs": [
    {
     "data": {
      "text/plain": [
       "'HELLOYOUAREBASED'"
      ]
     },
     "execution_count": 174,
     "metadata": {},
     "output_type": "execute_result"
    }
   ],
   "source": [
    "decrypted_message = vignete.decrypt_message(encrypted_message)\n",
    "decrypted_message"
   ]
  },
  {
   "cell_type": "markdown",
   "id": "e8ba907e",
   "metadata": {},
   "source": [
    "## Playfair Cipher"
   ]
  },
  {
   "cell_type": "code",
   "execution_count": 175,
   "id": "f900b599",
   "metadata": {},
   "outputs": [],
   "source": [
    "class PlayfairCipher():\n",
    "    def __init__(self, keyword):\n",
    "        self.keyword = keyword\n",
    "        self.alphabet = \"ABCDEFGHIJKLMNOPQRSTUVWXYZ\"\n",
    "        self.table = []\n",
    "        self.create_table()\n",
    "        \n",
    "    def create_table(self):\n",
    "        self.table = []\n",
    "        keyword = self.keyword + self.alphabet\n",
    "        used_letters = [\"J\"]\n",
    "        i = 0\n",
    "#         print(self.table)\n",
    "        while len(self.table) < 25:\n",
    "            if keyword[i] in used_letters:\n",
    "                pass\n",
    "            else:\n",
    "                used_letters.append(keyword[i])\n",
    "                self.table.append(keyword[i])\n",
    "            i+=1\n",
    "        self.table = np.array(self.table).reshape((5, 5))\n",
    "        \n",
    "    def preprocess(self, text):\n",
    "        k = len(text)\n",
    "        if k % 2 == 0:\n",
    "            for i in range(0, k, 2):\n",
    "                if text[i] == text[i+1]:\n",
    "                    new_word = text[0:i+1] + \"X\" + text[i+1:]\n",
    "                    new_word = self.preprocess(new_word)\n",
    "                    break\n",
    "                else:\n",
    "                    new_word = text\n",
    "        else:\n",
    "            for i in range(0, k-1, 2):\n",
    "                if text[i] == text[i+1]:\n",
    "                    new_word = text[0:i+1] + \"X\" + text[i+1:]\n",
    "                    new_word = self.preprocess(new_word)\n",
    "                    break\n",
    "                else:\n",
    "                    new_word = text\n",
    "        return new_word + \"X\"*(len(new_word) % 2)\n",
    "    \n",
    "    def same_col(self, a, b, a_coords, b_coords):\n",
    "        if a_coords[1] == b_coords[1]:\n",
    "#             print(\"same col\")\n",
    "            return True\n",
    "        else:\n",
    "            return False\n",
    "        \n",
    "    def same_row(self, a, b, a_coords, b_coords):\n",
    "        if a_coords[0] == b_coords[0]:\n",
    "#             print(\"same row\")\n",
    "            return True\n",
    "        else:\n",
    "            return False\n",
    "    \n",
    "    def encrypt_message(self, message):\n",
    "        encrypted_message = \"\"\n",
    "        message = self.preprocess(message)\n",
    "#         print(\"After preproc: \" + message + \" Len: \" + str(len(message)))\n",
    "        message = [message[i:i+2] for i in range(0, len(message), 2)]\n",
    "        for pair in message:\n",
    "            if pair[0] == \"J\":\n",
    "                pair[0] = \"I\"\n",
    "            if pair[1] == \"J\":\n",
    "                pair[1] == \"I\"\n",
    "                \n",
    "            a = [int(item) for item in np.where(self.table == pair[0])] # coords of first letter\n",
    "            b = [int(item) for item in np.where(self.table == pair[1])] # coords of second letter in pair\n",
    "            \n",
    "            is_same_col = self.same_col(pair[0], pair[1], a, b)\n",
    "            is_same_row = self.same_row(pair[0], pair[1], a, b)\n",
    "            if is_same_col:\n",
    "                encrypted_message += self.table[(a[0] + 1) % 5, a[1]] + self.table[(b[0] + 1) % 5, b[1]]\n",
    "            elif is_same_row:\n",
    "                encrypted_message += self.table[a[0], (a[1] + 1) % 5] + self.table[b[0], (b[1] + 1) % 5]\n",
    "            else:\n",
    "#                 print(\"else\")\n",
    "                encrypted_message += self.table[a[0], b[1]] + self.table[b[0], a[1]]\n",
    "        return encrypted_message\n",
    "    \n",
    "    def decrypt_message(self, message):\n",
    "        encrypted_message = \"\"\n",
    "        message = [message[i:i+2] for i in range(0, len(message), 2)]\n",
    "        for pair in message:        \n",
    "            a = [int(item) for item in np.where(self.table == pair[0])] # coords of first letter\n",
    "            b = [int(item) for item in np.where(self.table == pair[1])] # coords of second letter in pair\n",
    "            \n",
    "            is_same_col = self.same_col(pair[0], pair[1], a, b)\n",
    "            is_same_row = self.same_row(pair[0], pair[1], a, b)\n",
    "            if is_same_col:\n",
    "                encrypted_message += self.table[a[0] - 1, a[1]] + self.table[b[0] - 1, b[1]]\n",
    "            elif is_same_row:\n",
    "                encrypted_message += self.table[a[0], a[1] - 1] + self.table[b[0], b[1] - 1]\n",
    "            else:\n",
    "                encrypted_message += self.table[a[0], b[1]] + self.table[b[0], a[1]]\n",
    "        return encrypted_message"
   ]
  },
  {
   "cell_type": "code",
   "execution_count": 176,
   "id": "a29b53d8",
   "metadata": {},
   "outputs": [],
   "source": [
    "playfair = PlayfairCipher(\"LULZ\")"
   ]
  },
  {
   "cell_type": "code",
   "execution_count": 177,
   "id": "acedc2b8",
   "metadata": {},
   "outputs": [
    {
     "data": {
      "text/plain": [
       "(array([['L', 'U', 'Z', 'A', 'B'],\n",
       "        ['C', 'D', 'E', 'F', 'G'],\n",
       "        ['H', 'I', 'K', 'M', 'N'],\n",
       "        ['O', 'P', 'Q', 'R', 'S'],\n",
       "        ['T', 'V', 'W', 'X', 'Y']], dtype='<U1'),\n",
       " 'Z')"
      ]
     },
     "execution_count": 177,
     "metadata": {},
     "output_type": "execute_result"
    }
   ],
   "source": [
    "playfair.table, playfair.table[0, 2]"
   ]
  },
  {
   "cell_type": "code",
   "execution_count": 178,
   "id": "f208daee",
   "metadata": {
    "scrolled": true
   },
   "outputs": [
    {
     "data": {
      "text/plain": [
       "'KCATCTNXMBKFNPXFUWBMBMIPFRBRVLEFHY'"
      ]
     },
     "execution_count": 178,
     "metadata": {},
     "output_type": "execute_result"
    }
   ],
   "source": [
    "encrypted = playfair.encrypt_message(\"HELLOMYNAMEISRAZVANANDIAMASTUDENT\")\n",
    "encrypted"
   ]
  },
  {
   "cell_type": "code",
   "execution_count": 179,
   "id": "6da49c3d",
   "metadata": {},
   "outputs": [
    {
     "data": {
      "text/plain": [
       "'HELXLOMYNAMEISRAZVANANDIAMASTUDENT'"
      ]
     },
     "execution_count": 179,
     "metadata": {},
     "output_type": "execute_result"
    }
   ],
   "source": [
    "playfair.decrypt_message(encrypted)"
   ]
  }
 ],
 "metadata": {
  "kernelspec": {
   "display_name": "Python 3 (ipykernel)",
   "language": "python",
   "name": "python3"
  },
  "language_info": {
   "codemirror_mode": {
    "name": "ipython",
    "version": 3
   },
   "file_extension": ".py",
   "mimetype": "text/x-python",
   "name": "python",
   "nbconvert_exporter": "python",
   "pygments_lexer": "ipython3",
   "version": "3.8.8"
  }
 },
 "nbformat": 4,
 "nbformat_minor": 5
}
